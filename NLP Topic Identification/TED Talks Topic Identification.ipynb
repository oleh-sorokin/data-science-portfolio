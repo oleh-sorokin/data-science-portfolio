{
 "cells": [
  {
   "cell_type": "markdown",
   "metadata": {},
   "source": [
    "# TED Talks Topic Identification\n"
   ]
  },
  {
   "cell_type": "code",
   "execution_count": 19,
   "metadata": {},
   "outputs": [],
   "source": [
    "#Importing Libraries\n",
    "import numpy as np\n",
    "import pandas as pd\n",
    "import matplotlib.pyplot as plt\n",
    "import seaborn as sns\n"
   ]
  },
  {
   "cell_type": "code",
   "execution_count": 1,
   "metadata": {},
   "outputs": [
    {
     "name": "stdout",
     "output_type": "stream",
     "text": [
      "Hello\n"
     ]
    }
   ],
   "source": []
  },
  {
   "cell_type": "code",
   "execution_count": null,
   "metadata": {},
   "outputs": [],
   "source": []
  },
  {
   "cell_type": "code",
   "execution_count": null,
   "metadata": {},
   "outputs": [],
   "source": []
  },
  {
   "cell_type": "code",
   "execution_count": null,
   "metadata": {},
   "outputs": [],
   "source": []
  },
  {
   "cell_type": "code",
   "execution_count": null,
   "metadata": {},
   "outputs": [],
   "source": []
  },
  {
   "cell_type": "code",
   "execution_count": null,
   "metadata": {},
   "outputs": [],
   "source": []
  },
  {
   "cell_type": "code",
   "execution_count": null,
   "metadata": {},
   "outputs": [],
   "source": []
  },
  {
   "cell_type": "code",
   "execution_count": 29,
   "metadata": {},
   "outputs": [
    {
     "name": "stderr",
     "output_type": "stream",
     "text": [
      "C:\\Users\\getan\\anaconda3\\lib\\site-packages\\ipykernel\\ipkernel.py:287: DeprecationWarning: `should_run_async` will not call `transform_cell` automatically in the future. Please pass the result to `transformed_cell` argument and any exception that happen during thetransform in `preprocessing_exc_tuple` in IPython 7.17 and above.\n",
      "  and should_run_async(code)\n"
     ]
    },
    {
     "data": {
      "text/html": [
       "<div>\n",
       "<style scoped>\n",
       "    .dataframe tbody tr th:only-of-type {\n",
       "        vertical-align: middle;\n",
       "    }\n",
       "\n",
       "    .dataframe tbody tr th {\n",
       "        vertical-align: top;\n",
       "    }\n",
       "\n",
       "    .dataframe thead th {\n",
       "        text-align: right;\n",
       "    }\n",
       "</style>\n",
       "<table border=\"1\" class=\"dataframe\">\n",
       "  <thead>\n",
       "    <tr style=\"text-align: right;\">\n",
       "      <th></th>\n",
       "      <th>transcript</th>\n",
       "      <th>url</th>\n",
       "      <th>Video_topic</th>\n",
       "    </tr>\n",
       "  </thead>\n",
       "  <tbody>\n",
       "    <tr>\n",
       "      <th>0</th>\n",
       "      <td>We're going to talk — my — a new lecture, just...</td>\n",
       "      <td>https://www.ted.com/talks/al_seckel_says_our_b...</td>\n",
       "      <td>al_seckel_says_our_brains_are_mis_wired\\n</td>\n",
       "    </tr>\n",
       "    <tr>\n",
       "      <th>1</th>\n",
       "      <td>This is a representation of your brain, and yo...</td>\n",
       "      <td>https://www.ted.com/talks/aaron_o_connell_maki...</td>\n",
       "      <td>aaron_o_connell_making_sense_of_a_visible_quan...</td>\n",
       "    </tr>\n",
       "    <tr>\n",
       "      <th>2</th>\n",
       "      <td>It's a great honor today to share with you The...</td>\n",
       "      <td>https://www.ted.com/talks/carter_emmart_demos_...</td>\n",
       "      <td>carter_emmart_demos_a_3d_atlas_of_the_universe\\n</td>\n",
       "    </tr>\n",
       "    <tr>\n",
       "      <th>3</th>\n",
       "      <td>My passions are music, technology and making t...</td>\n",
       "      <td>https://www.ted.com/talks/jared_ficklin_new_wa...</td>\n",
       "      <td>jared_ficklin_new_ways_to_see_music_with_color...</td>\n",
       "    </tr>\n",
       "    <tr>\n",
       "      <th>4</th>\n",
       "      <td>It used to be that if you wanted to get a comp...</td>\n",
       "      <td>https://www.ted.com/talks/jeremy_howard_the_wo...</td>\n",
       "      <td>jeremy_howard_the_wonderful_and_terrifying_imp...</td>\n",
       "    </tr>\n",
       "  </tbody>\n",
       "</table>\n",
       "</div>"
      ],
      "text/plain": [
       "                                          transcript  \\\n",
       "0  We're going to talk — my — a new lecture, just...   \n",
       "1  This is a representation of your brain, and yo...   \n",
       "2  It's a great honor today to share with you The...   \n",
       "3  My passions are music, technology and making t...   \n",
       "4  It used to be that if you wanted to get a comp...   \n",
       "\n",
       "                                                 url  \\\n",
       "0  https://www.ted.com/talks/al_seckel_says_our_b...   \n",
       "1  https://www.ted.com/talks/aaron_o_connell_maki...   \n",
       "2  https://www.ted.com/talks/carter_emmart_demos_...   \n",
       "3  https://www.ted.com/talks/jared_ficklin_new_wa...   \n",
       "4  https://www.ted.com/talks/jeremy_howard_the_wo...   \n",
       "\n",
       "                                         Video_topic  \n",
       "0          al_seckel_says_our_brains_are_mis_wired\\n  \n",
       "1  aaron_o_connell_making_sense_of_a_visible_quan...  \n",
       "2   carter_emmart_demos_a_3d_atlas_of_the_universe\\n  \n",
       "3  jared_ficklin_new_ways_to_see_music_with_color...  \n",
       "4  jeremy_howard_the_wonderful_and_terrifying_imp...  "
      ]
     },
     "metadata": {},
     "output_type": "display_data"
    },
    {
     "data": {
      "text/html": [
       "<div>\n",
       "<style scoped>\n",
       "    .dataframe tbody tr th:only-of-type {\n",
       "        vertical-align: middle;\n",
       "    }\n",
       "\n",
       "    .dataframe tbody tr th {\n",
       "        vertical-align: top;\n",
       "    }\n",
       "\n",
       "    .dataframe thead th {\n",
       "        text-align: right;\n",
       "    }\n",
       "</style>\n",
       "<table border=\"1\" class=\"dataframe\">\n",
       "  <thead>\n",
       "    <tr style=\"text-align: right;\">\n",
       "      <th></th>\n",
       "      <th>transcript</th>\n",
       "      <th>url</th>\n",
       "      <th>Video_topic</th>\n",
       "    </tr>\n",
       "  </thead>\n",
       "  <tbody>\n",
       "    <tr>\n",
       "      <th>495</th>\n",
       "      <td>Today I'm going to unpack for you three exampl...</td>\n",
       "      <td>https://www.ted.com/talks/john_hodgman_design_...</td>\n",
       "      <td>john_hodgman_design_explained\\n</td>\n",
       "    </tr>\n",
       "    <tr>\n",
       "      <th>496</th>\n",
       "      <td>Both myself and my brother belong to the under...</td>\n",
       "      <td>https://www.ted.com/talks/sheikha_al_mayassa_g...</td>\n",
       "      <td>sheikha_al_mayassa_globalizing_the_local_local...</td>\n",
       "    </tr>\n",
       "    <tr>\n",
       "      <th>497</th>\n",
       "      <td>John Hockenberry: It's great to be here with y...</td>\n",
       "      <td>https://www.ted.com/talks/tom_shannon_the_pain...</td>\n",
       "      <td>tom_shannon_the_painter_and_the_pendulum\\n</td>\n",
       "    </tr>\n",
       "    <tr>\n",
       "      <th>498</th>\n",
       "      <td>What you're doing, right now, at this very mom...</td>\n",
       "      <td>https://www.ted.com/talks/nilofer_merchant_got...</td>\n",
       "      <td>nilofer_merchant_got_a_meeting_take_a_walk\\n</td>\n",
       "    </tr>\n",
       "    <tr>\n",
       "      <th>499</th>\n",
       "      <td>We've got a real problem with math education r...</td>\n",
       "      <td>https://www.ted.com/talks/conrad_wolfram_teach...</td>\n",
       "      <td>conrad_wolfram_teaching_kids_real_math_with_co...</td>\n",
       "    </tr>\n",
       "  </tbody>\n",
       "</table>\n",
       "</div>"
      ],
      "text/plain": [
       "                                            transcript  \\\n",
       "495  Today I'm going to unpack for you three exampl...   \n",
       "496  Both myself and my brother belong to the under...   \n",
       "497  John Hockenberry: It's great to be here with y...   \n",
       "498  What you're doing, right now, at this very mom...   \n",
       "499  We've got a real problem with math education r...   \n",
       "\n",
       "                                                   url  \\\n",
       "495  https://www.ted.com/talks/john_hodgman_design_...   \n",
       "496  https://www.ted.com/talks/sheikha_al_mayassa_g...   \n",
       "497  https://www.ted.com/talks/tom_shannon_the_pain...   \n",
       "498  https://www.ted.com/talks/nilofer_merchant_got...   \n",
       "499  https://www.ted.com/talks/conrad_wolfram_teach...   \n",
       "\n",
       "                                           Video_topic  \n",
       "495                    john_hodgman_design_explained\\n  \n",
       "496  sheikha_al_mayassa_globalizing_the_local_local...  \n",
       "497         tom_shannon_the_painter_and_the_pendulum\\n  \n",
       "498       nilofer_merchant_got_a_meeting_take_a_walk\\n  \n",
       "499  conrad_wolfram_teaching_kids_real_math_with_co...  "
      ]
     },
     "metadata": {},
     "output_type": "display_data"
    }
   ],
   "source": [
    "#importing data (this step will be replaced with parsing youtube video transcript )\n",
    "data = pd.read_csv(\"ted.csv\")\n",
    "data['Video_topic'] = data['url'].str.replace(\"https://www.ted.com/talks/\",\"\")\n",
    "display(data.head())\n",
    "display(data.tail())"
   ]
  },
  {
   "cell_type": "code",
   "execution_count": 30,
   "metadata": {
    "collapsed": true
   },
   "outputs": [
    {
     "name": "stdout",
     "output_type": "stream",
     "text": [
      "We're going to talk — my — a new lecture, just for TED — and I'm going show you some illusions that we've created for TED, and I'm going to try to relate this to happiness. What I was thinking about with happiness is, what gives happiness — or happiness, which I equate with joy in my particular area, and I think there's something very fundamental. And I was thinking about this. And it's in terms of both illusions and movies that we go see and jokes and magic shows is that there's something about these things where our expectations are violated in some sort of pleasing way. You go see a movie. And it has an unexpected twist — something that you didn't expect — and you find a joyful experience. You look at those sort of illusions in my book and it's not as what you'd expect. And there's something joyful about it. And it's the same thing with jokes and all these sorts of things. So, what I'm going to try and do in my lecture is go a little bit further and see if I can violate your expectations in a pleasing way. I mean, sometimes expectations that are violated are not pleasant, but I'm going to try to do it in a pleasant way, in a very primal way, so I can make the audience here happy.So I'm going to show you some ways that we can violate your expectations. First of all, I want to show you the particular illusion here. I want you first of all when it pops up on the screen to notice that the two holes are perpendicular to each other. These are all perceptual tricks. These are real objects that I'm going to show you. Now I'm going to show you how it is done. I've looped the film here so you can get a very interesting experience. I want you to see how this illusion is constructed, and it's going to rotate so you see that it's inside out. Now watch, as it rotates back, how quickly your perception snaps. OK now. Watch it as it rotates back again. And this is a very bright audience, all right? See if you can stop it from happening, even though you know 100 percent it's true that — bam! You can't undo it. What does that tell you about yourselves? We're going to do it again. No doubt about it. See if you can stop it from happening. No. It's difficult.And we can violate your expectations in a whole variety of ways about representation, about shape, about color and so forth and it's very primal. And it's an interesting question to ponder, why these things — we find these things joyful. Why would we find them joyful? So, here's something that Lionel did a while ago. I like these sort of little things like this.Again, this is not an optical trick. This is what you would see. In other words, it's not a camera cut. It's a perceptual trick. OK. We can violate your expectations about shape. We can violate your expectations on representation — what an image represents. What do you see here? How many of you here see dolphins? Raise your hand if you see dolphins. OK, those people who raised their hands, afterwards, the rest of the audience, go talk to them, all right? Actually, this is the best example of priming by experience that I know. If you are a child under the age of 10 who haven't been ruined yet, you will look at this image and see dolphins. Now, some of you adults here are saying, \"What dolphins? What dolphins?\" But in fact, if you reversed the figure ground — in other words, the dark areas here — I forgot to ask for a pointer — but if you reverse it, you'll see a whole series of little dolphins. By the way, if you're also a student at CalTech — they also tend to just see the dolphins. It's based on experience.Now, something like this can be used because this is after all talk about design, too. This was done by Saatchi and Saatchi, and they actually got away with this ad in Australia. So, if you look at this ad for beer, all those people are in sort of provocative positions. But they got it passed, and actually won the Clio awards, so it's funny how you can do these things. Remember that sort of, um. This is the joke I did when the Florida ballot was going around. You know, count the dots for Gore; count the dots for Bush; count 'em again ...You can violate your expectations about experience. Here is an outside water fountain that I created with some friends of mine, but you can stop the water in drops and — actually make all the drops levitate. This is something we're building for, you know, amusement parks and that kind of stuff. Now let's take a static image. Can you see this? Do you see the middle section moving down and the outer sections moving up? It's completely static. It's a static image. How many people see this illusion? It's completely static. Right. Now, when — it's interesting that when we look at an image we see, you know, color, depth, texture. And you can look at this whole scene and analyze it. You can see the woman is in closer than the wall and so forth. But the whole thing is actually flat. It's painted. It's trompe l'oeil. And it was such a good trompe l'oeil that people got irritated when they tried to talk to the woman and she wouldn't respond.Now, you can make design mistakes. Like this building in New York. So that when you see it from this side, it looks like the balconies tilt up, and when you walk around to the other side it looks like the balconies go down. So there are cases where you have mistakes in design that incorporate illusions. Or, you take this particular un-retouched photograph. Now, interestingly enough, I get a lot of emails from people who say, \"Is there any perceptual difference between males and females?\" And I really say, \"No.\" I mean, women can navigate through the world just as well as males can — and why wouldn't they? However, this is the one illusion that women can consistently do better than males: in matching which head because they rely on fashion cues. They can match the hat.Okay, now getting to a part — I want to show design in illusions. I believe that the first example of illusions being used purposely was by da Vinci in this anamorphic image of an eye. So that when you saw from one little angle was like this. And this little technique got popular in the 16th century and the 17th century to disguise hidden meanings, where you could flip the image and see it from one little point of view like this. But these are early incorporations of illusions brought to — sort of high point with Hans Holbein's \"Ambassadors.\" And Hans Holbein worked for Henry VIII. This was hung on a wall where you could walk down from the stair and you can see this hidden skull.All right, now I'm going to show you some designers who work with illusions to give that element of surprise. One of my favorites is Scott Kim. I worked with Scott to create some illusions for TED that I hope you will enjoy. We have one here on TED and happiness. OK now. Arthur [Ganson] hasn't talked yet, but his is going to be a delightful talk and he has some of his really fantastic machines outside. And so, we — Scott created this wonderful tribute to Arthur Ganson.Well, there's analog and digital. Thought that was appropriate here. And figure goes to ground. And for the musicians. And of course, since happiness — we want \"joy to the world.\" Now, another great designer — he's very well known in Japan — Shigeo Fukuda. And he just builds some fantastic things. This is simply amazing. This is a pile of junk that when you view it from one particular angle, you see its reflection in the mirror as a perfect piano. Pianist transforms to violinist. This is really wild. This assemblage of forks, knives and spoons and various cutlery, welded together. It gives a shadow of a motorcycle. You learn something in the sort of thing that I do, which is there are people out there with a lot of time on their hands.Ken Knowlton does wonderful composite images, like creating Jacques Cousteau out of seashells — un-retouched seashells, but just by rearranging them. He did Einstein out of dice because, after all, Einstein said, \"God does not play dice with the universe.\" Bert Herzog out of un-retouched keyboards. Will Shortz, crossword puzzle. John Cederquist does these wonderful trompe l'oeil cabinets.Now, I'm going to skip ahead since I'm sort of running [behind]. I want to show you quickly what I've created, some new type of illusions. I've done something with taking the Pixar-type illusions. So you see these kids the same size here, running down the hall. The two table tops of the same size. They're looking out two directions at once. You have a larger piece fitting in with a smaller. And that's something for you to think about, all right? So you see larger pieces fitting in within smaller pieces here. Does everyone see that? Which is impossible. You can see the two kids are looking out simultaneously out of two different directions at once. Now can you believe these two table tops are the same size and shape? They are. So, if you measured them, they would be. And as I say, those two figures are identical in size and shape. And it's interesting, by doing this in this sort of rendered fashion, how much stronger the illusions are. Any case, I hope this has brought you a little joy and happiness, and if you're interested in seeing more cool effects, see me outside. I'd be happy to show you lots of things.\n"
     ]
    },
    {
     "name": "stderr",
     "output_type": "stream",
     "text": [
      "C:\\Users\\getan\\anaconda3\\lib\\site-packages\\ipykernel\\ipkernel.py:287: DeprecationWarning: `should_run_async` will not call `transform_cell` automatically in the future. Please pass the result to `transformed_cell` argument and any exception that happen during thetransform in `preprocessing_exc_tuple` in IPython 7.17 and above.\n",
      "  and should_run_async(code)\n"
     ]
    }
   ],
   "source": [
    "#Preprocessing step\n",
    "#Let's start from one ted talk topic identification\n",
    "ted1 = data['transcript'][0]\n",
    "print(ted1)"
   ]
  },
  {
   "cell_type": "code",
   "execution_count": null,
   "metadata": {},
   "outputs": [],
   "source": []
  },
  {
   "cell_type": "code",
   "execution_count": null,
   "metadata": {},
   "outputs": [],
   "source": []
  },
  {
   "cell_type": "code",
   "execution_count": null,
   "metadata": {},
   "outputs": [],
   "source": []
  },
  {
   "cell_type": "code",
   "execution_count": null,
   "metadata": {},
   "outputs": [],
   "source": []
  },
  {
   "cell_type": "code",
   "execution_count": null,
   "metadata": {},
   "outputs": [],
   "source": []
  },
  {
   "cell_type": "code",
   "execution_count": null,
   "metadata": {},
   "outputs": [],
   "source": []
  },
  {
   "cell_type": "code",
   "execution_count": null,
   "metadata": {},
   "outputs": [],
   "source": []
  },
  {
   "cell_type": "code",
   "execution_count": null,
   "metadata": {},
   "outputs": [],
   "source": []
  },
  {
   "cell_type": "code",
   "execution_count": 4,
   "metadata": {},
   "outputs": [
    {
     "ename": "SyntaxError",
     "evalue": "invalid syntax (<ipython-input-4-cc2bbf8dad58>, line 1)",
     "output_type": "error",
     "traceback": [
      "\u001b[1;36m  File \u001b[1;32m\"<ipython-input-4-cc2bbf8dad58>\"\u001b[1;36m, line \u001b[1;32m1\u001b[0m\n\u001b[1;33m    pip install --upgrade git+git://github.com/zhijing-jin/ted_talk_downloader.git\u001b[0m\n\u001b[1;37m        ^\u001b[0m\n\u001b[1;31mSyntaxError\u001b[0m\u001b[1;31m:\u001b[0m invalid syntax\n"
     ]
    }
   ],
   "source": [
    "pip install --upgrade git+git://github.com/zhijing-jin/ted_talk_downloader.git\n",
    "#https://github.com/zhijing-jin/ted_talk_downloader#how-to-run"
   ]
  }
 ],
 "metadata": {
  "kernelspec": {
   "display_name": "Python 3",
   "language": "python",
   "name": "python3"
  },
  "language_info": {
   "codemirror_mode": {
    "name": "ipython",
    "version": 3
   },
   "file_extension": ".py",
   "mimetype": "text/x-python",
   "name": "python",
   "nbconvert_exporter": "python",
   "pygments_lexer": "ipython3",
   "version": "3.8.5"
  }
 },
 "nbformat": 4,
 "nbformat_minor": 4
}
