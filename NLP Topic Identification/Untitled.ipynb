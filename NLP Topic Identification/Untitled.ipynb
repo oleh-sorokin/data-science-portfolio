{
 "cells": [
  {
   "cell_type": "markdown",
   "metadata": {},
   "source": [
    "# TED Talks Topic Identification\n"
   ]
  },
  {
   "cell_type": "code",
   "execution_count": null,
   "metadata": {},
   "outputs": [],
   "source": [
    "#Importing Libraries\n",
    "import numpy as np\n",
    "import pandas as pd\n",
    "import matplotlib.pyplot as plt\n",
    "import seaborn as sns\n"
   ]
  },
  {
   "cell_type": "code",
   "execution_count": null,
   "metadata": {},
   "outputs": [],
   "source": [
    "#Trying to get urls from Youtube\n",
    "import urllib, json\n",
    "author = 'Youtube_Username'\n",
    "\n",
    "foundAll = False\n",
    "ind = 1\n",
    "videos = []\n",
    "while not foundAll:\n",
    "    inp = urllib.urlopen(r'http://gdata.youtube.com/feeds/api/videos?start-index={0}&max-results=50&alt=json&orderby=published&author={1}'.format( ind, author ) )\n",
    "    try:\n",
    "        resp = json.load(inp)\n",
    "        inp.close()\n",
    "        returnedVideos = resp['feed']['entry']\n",
    "        for video in returnedVideos:\n",
    "            videos.append( video ) \n",
    "\n",
    "        ind += 50\n",
    "        print len( videos )\n",
    "        if ( len( returnedVideos ) < 50 ):\n",
    "            foundAll = True\n",
    "    except:\n",
    "        #catch the case where the number of videos in the channel is a multiple of 50\n",
    "        print \"error\"\n",
    "        foundAll = True\n",
    "\n",
    "for video in videos:\n",
    "    print video['title'] # video title\n",
    "    print video['link'][0]['href'] #url"
   ]
  },
  {
   "cell_type": "code",
   "execution_count": null,
   "metadata": {},
   "outputs": [],
   "source": []
  },
  {
   "cell_type": "code",
   "execution_count": null,
   "metadata": {},
   "outputs": [],
   "source": []
  },
  {
   "cell_type": "code",
   "execution_count": null,
   "metadata": {},
   "outputs": [],
   "source": []
  },
  {
   "cell_type": "code",
   "execution_count": null,
   "metadata": {},
   "outputs": [],
   "source": []
  },
  {
   "cell_type": "code",
   "execution_count": null,
   "metadata": {},
   "outputs": [],
   "source": []
  },
  {
   "cell_type": "code",
   "execution_count": null,
   "metadata": {},
   "outputs": [],
   "source": []
  }
 ],
 "metadata": {
  "kernelspec": {
   "display_name": "Python 3",
   "language": "python",
   "name": "python3"
  },
  "language_info": {
   "codemirror_mode": {
    "name": "ipython",
    "version": 3
   },
   "file_extension": ".py",
   "mimetype": "text/x-python",
   "name": "python",
   "nbconvert_exporter": "python",
   "pygments_lexer": "ipython3",
   "version": "3.8.5"
  }
 },
 "nbformat": 4,
 "nbformat_minor": 4
}
